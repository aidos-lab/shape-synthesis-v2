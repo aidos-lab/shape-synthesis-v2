{
 "cells": [
  {
   "metadata": {},
   "cell_type": "markdown",
   "source": "### Data Preperation",
   "id": "e09b25bb29e6af6a"
  },
  {
   "metadata": {
    "ExecuteTime": {
     "end_time": "2025-07-30T10:27:55.474842Z",
     "start_time": "2025-07-30T10:27:55.415432Z"
    }
   },
   "cell_type": "code",
   "source": [
    "%load_ext autoreload\n",
    "%autoreload 2\n",
    "\n",
    "\n",
    "import matplotlib.pyplot as plt\n",
    "\n",
    "import torch\n",
    "import torch.nn as nn\n",
    "from torch.optim import Adam\n",
    "from torch.utils.data import DataLoader, TensorDataset\n",
    "from shape_synthesis.datasets.transforms import get_transform \n",
    "from shape_synthesis.datasets.qm9 import DataConfig, create_dataset, get_dataloaders\n",
    "\n",
    "\n",
    "DEVICE = torch.device(\"cuda\" if torch.cuda.is_available() else \"cpu\")\n",
    "\n",
    "# When turning dev=True, the dataset will be created with a smaller number of points for faster testing\n",
    "dev = False\n",
    "\n",
    "res = 32\n",
    "num_dir = 16\n",
    "x_dim  = res * num_dir \n",
    "\n",
    "num_examples = -1\n",
    "\n",
    "# VAE settings\n",
    "hidden_dim = 400\n",
    "latent_dim = 100\n",
    "lr_vae = 1e-3\n",
    "epochs_vae = 150\n",
    "\n",
    "# MLP settings\n",
    "hidden_dims_mlp = [64, 128, 256]\n",
    "lr_mlp = 1e-3\n",
    "epochs_mlp = 100\n",
    "\n",
    "\n",
    "batch_size = 64\n",
    "\n",
    "config = DataConfig(\n",
    "        root=\"./data\",\n",
    "        raw=\"./data/raw\",\n",
    "        batch_size=batch_size,\n",
    "    )"
   ],
   "id": "bed8735f52f1068b",
   "outputs": [
    {
     "name": "stdout",
     "output_type": "stream",
     "text": [
      "The autoreload extension is already loaded. To reload it, use:\n",
      "  %reload_ext autoreload\n"
     ]
    },
    {
     "ename": "ImportError",
     "evalue": "cannot import name 'get_dataloaders' from 'shape_synthesis.datasets.qm9' (/Users/jschmidt/Dev/shape-synthesis-v2/shape_synthesis/datasets/qm9.py)",
     "output_type": "error",
     "traceback": [
      "\u001B[0;31m---------------------------------------------------------------------------\u001B[0m",
      "\u001B[0;31mImportError\u001B[0m                               Traceback (most recent call last)",
      "Cell \u001B[0;32mIn[44], line 12\u001B[0m\n\u001B[1;32m     10\u001B[0m \u001B[38;5;28;01mfrom\u001B[39;00m\u001B[38;5;250m \u001B[39m\u001B[38;5;21;01mtorch\u001B[39;00m\u001B[38;5;21;01m.\u001B[39;00m\u001B[38;5;21;01mutils\u001B[39;00m\u001B[38;5;21;01m.\u001B[39;00m\u001B[38;5;21;01mdata\u001B[39;00m\u001B[38;5;250m \u001B[39m\u001B[38;5;28;01mimport\u001B[39;00m DataLoader, TensorDataset\n\u001B[1;32m     11\u001B[0m \u001B[38;5;28;01mfrom\u001B[39;00m\u001B[38;5;250m \u001B[39m\u001B[38;5;21;01mshape_synthesis\u001B[39;00m\u001B[38;5;21;01m.\u001B[39;00m\u001B[38;5;21;01mdatasets\u001B[39;00m\u001B[38;5;21;01m.\u001B[39;00m\u001B[38;5;21;01mtransforms\u001B[39;00m\u001B[38;5;250m \u001B[39m\u001B[38;5;28;01mimport\u001B[39;00m get_transform \n\u001B[0;32m---> 12\u001B[0m \u001B[38;5;28;01mfrom\u001B[39;00m\u001B[38;5;250m \u001B[39m\u001B[38;5;21;01mshape_synthesis\u001B[39;00m\u001B[38;5;21;01m.\u001B[39;00m\u001B[38;5;21;01mdatasets\u001B[39;00m\u001B[38;5;21;01m.\u001B[39;00m\u001B[38;5;21;01mqm9\u001B[39;00m\u001B[38;5;250m \u001B[39m\u001B[38;5;28;01mimport\u001B[39;00m DataConfig, create_dataset, get_dataloaders\n\u001B[1;32m     15\u001B[0m DEVICE \u001B[38;5;241m=\u001B[39m torch\u001B[38;5;241m.\u001B[39mdevice(\u001B[38;5;124m\"\u001B[39m\u001B[38;5;124mcuda\u001B[39m\u001B[38;5;124m\"\u001B[39m \u001B[38;5;28;01mif\u001B[39;00m torch\u001B[38;5;241m.\u001B[39mcuda\u001B[38;5;241m.\u001B[39mis_available() \u001B[38;5;28;01melse\u001B[39;00m \u001B[38;5;124m\"\u001B[39m\u001B[38;5;124mcpu\u001B[39m\u001B[38;5;124m\"\u001B[39m)\n\u001B[1;32m     17\u001B[0m \u001B[38;5;66;03m# When turning dev=True, the dataset will be created with a smaller number of points for faster testing\u001B[39;00m\n",
      "\u001B[0;31mImportError\u001B[0m: cannot import name 'get_dataloaders' from 'shape_synthesis.datasets.qm9' (/Users/jschmidt/Dev/shape-synthesis-v2/shape_synthesis/datasets/qm9.py)"
     ]
    }
   ],
   "execution_count": 44
  },
  {
   "metadata": {
    "ExecuteTime": {
     "end_time": "2025-07-30T10:27:54.401309Z",
     "start_time": "2025-07-30T10:27:52.180235Z"
    }
   },
   "cell_type": "code",
   "source": [
    "dataset_type = \"dev\" if dev else \"prod\"\n",
    "path = f\"{config.root}/qm9/{dataset_type}\"\n",
    "\n",
    "create_dataset(config, dev=dev)\n",
    "\n",
    "train_data = torch.load(f\"{path}/train.pt\")\n",
    "\n",
    "x = train_data\n",
    "\n",
    "print(72 * \"=\")\n",
    "print(\"Info\")\n",
    "print(\"Min\", x.min(dim=0)[0])\n",
    "print(\"Max\", x.max(dim=0)[0])\n",
    "print(\"Norm\", torch.norm(x, dim=1).max())\n",
    "print(72 * \"=\")"
   ],
   "id": "4955c3cc5ea9aa12",
   "outputs": [
    {
     "name": "stdout",
     "output_type": "stream",
     "text": [
      "prod\n",
      "Creating: ./data/qm9\n",
      "Creating: ./data/raw\n",
      "Saving config to ./data/qm9/prod/config.yaml\n",
      "========================================================================\n",
      "Info\n"
     ]
    },
    {
     "ename": "AttributeError",
     "evalue": "'QM9' object has no attribute 'min'",
     "output_type": "error",
     "traceback": [
      "\u001B[0;31m---------------------------------------------------------------------------\u001B[0m",
      "\u001B[0;31mAttributeError\u001B[0m                            Traceback (most recent call last)",
      "Cell \u001B[0;32mIn[43], line 12\u001B[0m\n\u001B[1;32m     10\u001B[0m \u001B[38;5;28mprint\u001B[39m(\u001B[38;5;241m72\u001B[39m \u001B[38;5;241m*\u001B[39m \u001B[38;5;124m\"\u001B[39m\u001B[38;5;124m=\u001B[39m\u001B[38;5;124m\"\u001B[39m)\n\u001B[1;32m     11\u001B[0m \u001B[38;5;28mprint\u001B[39m(\u001B[38;5;124m\"\u001B[39m\u001B[38;5;124mInfo\u001B[39m\u001B[38;5;124m\"\u001B[39m)\n\u001B[0;32m---> 12\u001B[0m \u001B[38;5;28mprint\u001B[39m(\u001B[38;5;124m\"\u001B[39m\u001B[38;5;124mMin\u001B[39m\u001B[38;5;124m\"\u001B[39m, \u001B[43mx\u001B[49m\u001B[38;5;241;43m.\u001B[39;49m\u001B[43mmin\u001B[49m(dim\u001B[38;5;241m=\u001B[39m\u001B[38;5;241m0\u001B[39m)[\u001B[38;5;241m0\u001B[39m])\n\u001B[1;32m     13\u001B[0m \u001B[38;5;28mprint\u001B[39m(\u001B[38;5;124m\"\u001B[39m\u001B[38;5;124mMax\u001B[39m\u001B[38;5;124m\"\u001B[39m, x\u001B[38;5;241m.\u001B[39mmax(dim\u001B[38;5;241m=\u001B[39m\u001B[38;5;241m0\u001B[39m)[\u001B[38;5;241m0\u001B[39m])\n\u001B[1;32m     14\u001B[0m \u001B[38;5;28mprint\u001B[39m(\u001B[38;5;124m\"\u001B[39m\u001B[38;5;124mNorm\u001B[39m\u001B[38;5;124m\"\u001B[39m, torch\u001B[38;5;241m.\u001B[39mnorm(x, dim\u001B[38;5;241m=\u001B[39m\u001B[38;5;241m1\u001B[39m)\u001B[38;5;241m.\u001B[39mmax())\n",
      "File \u001B[0;32m~/micromamba/envs/shape-synthesis/lib/python3.10/site-packages/torch_geometric/data/in_memory_dataset.py:318\u001B[0m, in \u001B[0;36mInMemoryDataset.__getattr__\u001B[0;34m(self, key)\u001B[0m\n\u001B[1;32m    315\u001B[0m         data_list \u001B[38;5;241m=\u001B[39m [\u001B[38;5;28mself\u001B[39m\u001B[38;5;241m.\u001B[39mget(i) \u001B[38;5;28;01mfor\u001B[39;00m i \u001B[38;5;129;01min\u001B[39;00m \u001B[38;5;28mself\u001B[39m\u001B[38;5;241m.\u001B[39mindices()]\n\u001B[1;32m    316\u001B[0m         \u001B[38;5;28;01mreturn\u001B[39;00m Batch\u001B[38;5;241m.\u001B[39mfrom_data_list(data_list)[key]\n\u001B[0;32m--> 318\u001B[0m \u001B[38;5;28;01mraise\u001B[39;00m \u001B[38;5;167;01mAttributeError\u001B[39;00m(\u001B[38;5;124mf\u001B[39m\u001B[38;5;124m\"\u001B[39m\u001B[38;5;124m'\u001B[39m\u001B[38;5;132;01m{\u001B[39;00m\u001B[38;5;28mself\u001B[39m\u001B[38;5;241m.\u001B[39m\u001B[38;5;18m__class__\u001B[39m\u001B[38;5;241m.\u001B[39m\u001B[38;5;18m__name__\u001B[39m\u001B[38;5;132;01m}\u001B[39;00m\u001B[38;5;124m'\u001B[39m\u001B[38;5;124m object has no \u001B[39m\u001B[38;5;124m\"\u001B[39m\n\u001B[1;32m    319\u001B[0m                      \u001B[38;5;124mf\u001B[39m\u001B[38;5;124m\"\u001B[39m\u001B[38;5;124mattribute \u001B[39m\u001B[38;5;124m'\u001B[39m\u001B[38;5;132;01m{\u001B[39;00mkey\u001B[38;5;132;01m}\u001B[39;00m\u001B[38;5;124m'\u001B[39m\u001B[38;5;124m\"\u001B[39m)\n",
      "\u001B[0;31mAttributeError\u001B[0m: 'QM9' object has no attribute 'min'"
     ]
    }
   ],
   "execution_count": 43
  },
  {
   "metadata": {
    "ExecuteTime": {
     "end_time": "2025-07-30T10:24:51.271728Z",
     "start_time": "2025-07-30T10:24:51.082790Z"
    }
   },
   "cell_type": "code",
   "source": [
    "colors = { 1:'red', 6: 'blue', 7: 'black', 8: 'green'}\n",
    "atom_types = {1: 'H', 6: 'C', 7: 'N', 8: 'O'}\n",
    "\n",
    "pos = train_data[0].pos\n",
    "z = train_data[0].z\n",
    "\n",
    "mask_h = z == 1\n",
    "mask_c = z == 6\n",
    "mask_n = z == 7\n",
    "mask_o = z == 8\n",
    "mask_f = z == 9\n",
    "\n",
    "plt.scatter(pos[mask_c][:, 0], pos[mask_c][:, 1], color='black', label='C')\n",
    "plt.scatter(pos[mask_n][:, 0], pos[mask_n][:, 1], color='green', label='N')\n",
    "plt.scatter(pos[mask_o][:, 0], pos[mask_o][:, 1], color='red', label='O')\n",
    "plt.scatter(pos[mask_h][:, 0], pos[mask_h][:, 1], color='grey', label='H')\n",
    "plt.scatter(pos[mask_f][:, 0], pos[mask_f][:, 1], color='blue', label='F')\n"
   ],
   "id": "d19b5da2ebb4340f",
   "outputs": [
    {
     "name": "stdout",
     "output_type": "stream",
     "text": [
      "torch.Size([10, 3]) torch.Size([7, 3]) torch.Size([2, 3]) torch.Size([0, 3]) torch.Size([0, 3])\n"
     ]
    },
    {
     "data": {
      "text/plain": [
       "<matplotlib.collections.PathCollection at 0x33c549750>"
      ]
     },
     "execution_count": 42,
     "metadata": {},
     "output_type": "execute_result"
    },
    {
     "data": {
      "text/plain": [
       "<Figure size 640x480 with 1 Axes>"
      ],
      "image/png": "[encoded data removed]"
     },
     "metadata": {},
     "output_type": "display_data"
    }
   ],
   "execution_count": 42
  },
  {
   "metadata": {
    "ExecuteTime": {
     "end_time": "2025-07-30T10:31:54.047120Z",
     "start_time": "2025-07-30T10:31:53.821013Z"
    }
   },
   "cell_type": "code",
   "source": [
    "# Preparing the channeled ECT out of the QM9 dataset\n",
    "\n",
    "transform = get_transform(device=DEVICE, resolution=res, num_thetas=num_dir, ambient_dimension=3)\n",
    "\n",
    "train_ects = []\n",
    "train_number_atoms = []\n",
    "\n",
    "for i in range(len(train_data)):\n",
    "    pos = train_data[i].pos\n",
    "    z = train_data[i].z\n",
    "    \n",
    "    # define filtration via atom type and channel\n",
    "    mask_c = z == 6\n",
    "    mask_n = z == 7 + mask_c\n",
    "    mask_o = z == 8 + mask_n\n",
    "    mask_f = z == 9 + mask_o\n",
    "    mask_h = z == 1 + mask_f\n",
    "    \n",
    "    \n",
    "    ect_c = torch.flatten(transform(pos[mask_c]).movedim(-1,-1), start_dim=1)\n",
    "    ect_n = torch.flatten(transform(pos[mask_n]).movedim(-1,-1), start_dim=1)\n",
    "    ect_o = torch.flatten(transform(pos[mask_o]).movedim(-1,-1), start_dim=1)\n",
    "    ect_f = torch.flatten(transform(pos[mask_f]).movedim(-1,-1), start_dim=1)\n",
    "    ect_h = torch.flatten(transform(pos[mask_h]).movedim(-1,-1), start_dim=1)\n",
    "    \n",
    "    ect = torch.stack([ect_c, ect_n, ect_o, ect_f, ect_h], dim=0)\n",
    "    train_ects.append(ect)\n",
    "    train_number_atoms.append(len(pos))\n",
    "    \n",
    "\n",
    "torch_train_ects = torch.cat(train_ects, dim=0)\n",
    "torch_train_number_atoms = torch.cat(train_number_atoms, dim=0)\n",
    "train_dataset = TensorDataset(torch_train_ects, torch_train_number_atoms)\n",
    "\n",
    "train_loader = DataLoader(dataset=train_dataset, batch_size=batch_size, shuffle=False)"
   ],
   "id": "dc2e1a3906f658a3",
   "outputs": [
    {
     "ename": "RuntimeError",
     "evalue": "The size of tensor a (32) must match the size of tensor b (7) at non-singleton dimension 0",
     "output_type": "error",
     "traceback": [
      "\u001B[0;31m---------------------------------------------------------------------------\u001B[0m",
      "\u001B[0;31mRuntimeError\u001B[0m                              Traceback (most recent call last)",
      "Cell \u001B[0;32mIn[48], line 20\u001B[0m\n\u001B[1;32m     16\u001B[0m mask_f \u001B[38;5;241m=\u001B[39m z \u001B[38;5;241m==\u001B[39m \u001B[38;5;241m9\u001B[39m \u001B[38;5;241m+\u001B[39m mask_o\n\u001B[1;32m     17\u001B[0m mask_h \u001B[38;5;241m=\u001B[39m z \u001B[38;5;241m==\u001B[39m \u001B[38;5;241m1\u001B[39m \u001B[38;5;241m+\u001B[39m mask_f\n\u001B[0;32m---> 20\u001B[0m ect_c \u001B[38;5;241m=\u001B[39m torch\u001B[38;5;241m.\u001B[39mflatten(\u001B[43mtransform\u001B[49m\u001B[43m(\u001B[49m\u001B[43mpos\u001B[49m\u001B[43m[\u001B[49m\u001B[43mmask_c\u001B[49m\u001B[43m]\u001B[49m\u001B[43m)\u001B[49m\u001B[38;5;241m.\u001B[39mmovedim(\u001B[38;5;241m-\u001B[39m\u001B[38;5;241m1\u001B[39m,\u001B[38;5;241m-\u001B[39m\u001B[38;5;241m1\u001B[39m), start_dim\u001B[38;5;241m=\u001B[39m\u001B[38;5;241m1\u001B[39m)\n\u001B[1;32m     21\u001B[0m ect_n \u001B[38;5;241m=\u001B[39m torch\u001B[38;5;241m.\u001B[39mflatten(transform(pos[mask_n])\u001B[38;5;241m.\u001B[39mmovedim(\u001B[38;5;241m-\u001B[39m\u001B[38;5;241m1\u001B[39m,\u001B[38;5;241m-\u001B[39m\u001B[38;5;241m1\u001B[39m), start_dim\u001B[38;5;241m=\u001B[39m\u001B[38;5;241m1\u001B[39m)\n\u001B[1;32m     22\u001B[0m ect_o \u001B[38;5;241m=\u001B[39m torch\u001B[38;5;241m.\u001B[39mflatten(transform(pos[mask_o])\u001B[38;5;241m.\u001B[39mmovedim(\u001B[38;5;241m-\u001B[39m\u001B[38;5;241m1\u001B[39m,\u001B[38;5;241m-\u001B[39m\u001B[38;5;241m1\u001B[39m), start_dim\u001B[38;5;241m=\u001B[39m\u001B[38;5;241m1\u001B[39m)\n",
      "File \u001B[0;32m~/Dev/shape-synthesis-v2/shape_synthesis/datasets/transforms.py:80\u001B[0m, in \u001B[0;36mEctTransform.__call__\u001B[0;34m(self, x)\u001B[0m\n\u001B[1;32m     79\u001B[0m \u001B[38;5;28;01mdef\u001B[39;00m\u001B[38;5;250m \u001B[39m\u001B[38;5;21m__call__\u001B[39m(\u001B[38;5;28mself\u001B[39m, x):\n\u001B[0;32m---> 80\u001B[0m     \u001B[38;5;28;01mreturn\u001B[39;00m \u001B[38;5;28;43mself\u001B[39;49m\u001B[38;5;241;43m.\u001B[39;49m\u001B[43mect_fn\u001B[49m\u001B[43m(\u001B[49m\u001B[43mx\u001B[49m\u001B[43m)\u001B[49m\n",
      "File \u001B[0;32m~/Dev/shape-synthesis-v2/dect/dect/ect.py:180\u001B[0m, in \u001B[0;36mcompute_ect_point_cloud\u001B[0;34m(x, v, radius, resolution, scale, normalize)\u001B[0m\n\u001B[1;32m    176\u001B[0m lin \u001B[38;5;241m=\u001B[39m torch\u001B[38;5;241m.\u001B[39mlinspace(\n\u001B[1;32m    177\u001B[0m     start\u001B[38;5;241m=\u001B[39m\u001B[38;5;241m-\u001B[39mradius, end\u001B[38;5;241m=\u001B[39mradius, steps\u001B[38;5;241m=\u001B[39mresolution, device\u001B[38;5;241m=\u001B[39mx\u001B[38;5;241m.\u001B[39mdevice\n\u001B[1;32m    178\u001B[0m )\u001B[38;5;241m.\u001B[39mview(\u001B[38;5;241m-\u001B[39m\u001B[38;5;241m1\u001B[39m, \u001B[38;5;241m1\u001B[39m, \u001B[38;5;241m1\u001B[39m)\n\u001B[1;32m    179\u001B[0m nh \u001B[38;5;241m=\u001B[39m (x \u001B[38;5;241m@\u001B[39m v)\u001B[38;5;241m.\u001B[39munsqueeze(\u001B[38;5;241m1\u001B[39m)\n\u001B[0;32m--> 180\u001B[0m ecc \u001B[38;5;241m=\u001B[39m torch\u001B[38;5;241m.\u001B[39mnn\u001B[38;5;241m.\u001B[39mfunctional\u001B[38;5;241m.\u001B[39msigmoid(scale \u001B[38;5;241m*\u001B[39m \u001B[43mtorch\u001B[49m\u001B[38;5;241;43m.\u001B[39;49m\u001B[43msub\u001B[49m\u001B[43m(\u001B[49m\u001B[43mlin\u001B[49m\u001B[43m,\u001B[49m\u001B[43m \u001B[49m\u001B[43mnh\u001B[49m\u001B[43m)\u001B[49m)\n\u001B[1;32m    181\u001B[0m ect \u001B[38;5;241m=\u001B[39m torch\u001B[38;5;241m.\u001B[39msum(ecc, dim\u001B[38;5;241m=\u001B[39m\u001B[38;5;241m2\u001B[39m)\n\u001B[1;32m    182\u001B[0m \u001B[38;5;28;01mif\u001B[39;00m normalize:\n",
      "\u001B[0;31mRuntimeError\u001B[0m: The size of tensor a (32) must match the size of tensor b (7) at non-singleton dimension 0"
     ]
    }
   ],
   "execution_count": 48
  },
  {
   "metadata": {},
   "cell_type": "markdown",
   "source": "### Decoder MLP",
   "id": "d20602fbcf98d1d5"
  },
  {
   "metadata": {},
   "cell_type": "code",
   "outputs": [],
   "execution_count": null,
   "source": [
    "class PointCloudMLP(nn.Module):\n",
    "    def __init__(self, x_input: int, hidden_dims: list, max_no_points: int):\n",
    "        \"\"\"\n",
    "        Args:\n",
    "            x_input (int): Dimension of input vector.\n",
    "            hidden_dims (list): List of hidden layer sizes, e.g. [128, 256].\n",
    "            no_points (int): Number of output points (point cloud size).\n",
    "        \"\"\"\n",
    "        super(PointCloudMLP, self).__init__()\n",
    "        \n",
    "        # Build fully connected layers\n",
    "        layers = []\n",
    "        input_dim = x_input\n",
    "        \n",
    "        for h in hidden_dims:\n",
    "            layers.append(nn.Linear(input_dim, h))\n",
    "            layers.append(nn.ReLU())\n",
    "            input_dim = h\n",
    "\n",
    "        # Final layer: outputting (no_points * 2) values\n",
    "        layers.append(nn.Linear(input_dim, max_no_points * 3))\n",
    "        \n",
    "        self.network = nn.Sequential(*layers)\n",
    "        self.no_points = max_no_points\n",
    "\n",
    "    def forward(self, x, no_atoms: int):\n",
    "        \"\"\"\n",
    "        Args:\n",
    "            x (torch.Tensor): Input tensor of shape (batch_size, x_input).\n",
    "            no_atoms (int): Number of atoms in molecule.\n",
    "        Returns:\n",
    "            torch.Tensor: Output point cloud of shape (batch_size, no_points, 2).\n",
    "        \"\"\"\n",
    "        out = self.network(x)  # (batch_size, no_points * 2)\n",
    "        out = out.view(-1, self.no_points, 3)[:, no_atoms]  # Reshape to (batch_size, no_points, 2)\n",
    "        return out"
   ],
   "id": "5188fec7ed9ecae"
  },
  {
   "metadata": {},
   "cell_type": "code",
   "outputs": [],
   "execution_count": null,
   "source": [
    "# Add a loss function to allow permutation invariance\n",
    "\n",
    "def chamfer_distance(p1, p2):\n",
    "    \"\"\"\n",
    "    p1, p2: (batch, n, 2)\n",
    "    \"\"\"\n",
    "    diff_1 = torch.cdist(p1, p2)  # (batch, n, n)\n",
    "    min_dist_1 = diff_1.min(dim=2)[0]  # (batch, n)\n",
    "    min_dist_2 = diff_1.min(dim=1)[0]  # (batch, n)\n",
    "    return (min_dist_1.mean() + min_dist_2.mean())"
   ],
   "id": "da2f01a6257902e0"
  },
  {
   "metadata": {},
   "cell_type": "code",
   "outputs": [],
   "execution_count": null,
   "source": [
    "x_input = res*num_dir\n",
    "model2 = PointCloudMLP(x_input, hidden_dims_mlp, num_pts)\n",
    "\n",
    "optimizer = Adam(model2.parameters(), lr=lr_mlp)\n",
    "loss_fn = chamfer_distance\n",
    "\n",
    "for epoch in range(epochs_mlp):\n",
    "    overall_loss = 0\n",
    "    for batch_idx, (x, y) in enumerate(train_loader):\n",
    "        x = x.view(batch_size, x_input)\n",
    "        x = x.to(DEVICE)\n",
    "\n",
    "        optimizer.zero_grad()\n",
    "\n",
    "        y_hat = model2(x)\n",
    "        loss = loss_fn(y, y_hat)\n",
    "        \n",
    "        overall_loss += loss.item()\n",
    "        \n",
    "        loss.backward()\n",
    "        optimizer.step()\n",
    "        \n",
    "    print(\"\\tEpoch\", epoch + 1, \"complete!\", \"\\tAverage Loss: \", overall_loss / ((batch_idx+1)*batch_size))"
   ],
   "id": "44ceffa28bbe6e9f"
  }
 ],
 "metadata": {
  "kernelspec": {
   "display_name": "Python 3",
   "language": "python",
   "name": "python3"
  },
  "language_info": {
   "codemirror_mode": {
    "name": "ipython",
    "version": 2
   },
   "file_extension": ".py",
   "mimetype": "text/x-python",
   "name": "python",
   "nbconvert_exporter": "python",
   "pygments_lexer": "ipython2",
   "version": "2.7.6"
  }
 },
 "nbformat": 4,
 "nbformat_minor": 5
}
