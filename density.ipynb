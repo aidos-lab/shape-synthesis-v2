{
  "cells": [
    {
      "cell_type": "code",
      "metadata": {
        "jukit_cell_id": "3MT5TPuIUN"
      },
      "source": [
        "import numpy as np\n",
        "import pyvista as pv\n",
        "\n",
        "pv.set_jupyter_backend(\"html\")\n",
        "\n",
        "# Define the grid dimensions\n",
        "x = np.linspace(-5, 5, 50)\n",
        "y = np.linspace(-5, 5, 50)\n",
        "z = np.linspace(-5, 5, 50)\n",
        "X, Y, Z = np.meshgrid(x, y, z)\n",
        "\n",
        "# Define a 3D Gaussian density function\n",
        "sigma = 1.0\n",
        "density = np.exp(-(X**2 + 2 * Y**2 + Z**2) / (2 * sigma**2))"
      ],
      "outputs": [],
      "execution_count": null
    },
    {
      "cell_type": "code",
      "metadata": {
        "jukit_cell_id": "IvZkO7WzGZ"
      },
      "source": [
        "# Create a PyVista grid\n",
        "grid = pv.StructuredGrid(*np.meshgrid(x, y, z, indexing=\"ij\"))\n",
        "grid[\"Density\"] = density.ravel()\n",
        "# Plot the density function\n",
        "plotter = pv.Plotter()\n",
        "plotter.add_volume(grid, scalars=\"Density\", cmap=\"viridis\", opacity=\"sigmoid\")\n",
        "plotter.show()"
      ],
      "outputs": [],
      "execution_count": null
    }
  ],
  "metadata": {
    "anaconda-cloud": {},
    "kernelspec": {
      "display_name": "python",
      "language": "python",
      "name": "python3"
    }
  },
  "nbformat": 4,
  "nbformat_minor": 4
}